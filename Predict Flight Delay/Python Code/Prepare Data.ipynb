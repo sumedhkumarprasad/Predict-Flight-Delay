{
 "cells": [
  {
   "cell_type": "code",
   "execution_count": 26,
   "metadata": {},
   "outputs": [],
   "source": [
    "import pandas as pd"
   ]
  },
  {
   "cell_type": "code",
   "execution_count": 27,
   "metadata": {},
   "outputs": [],
   "source": [
    "master_df = pd.read_csv(\"MasterDF.csv\")"
   ]
  },
  {
   "cell_type": "code",
   "execution_count": 3,
   "metadata": {},
   "outputs": [],
   "source": [
    "temp_df = pd.read_csv(\"Delay_Jun_Converted.csv\")"
   ]
  },
  {
   "cell_type": "code",
   "execution_count": 4,
   "metadata": {},
   "outputs": [
    {
     "data": {
      "text/plain": [
       "{'CarrierName', 'Day', 'Delayed'}"
      ]
     },
     "execution_count": 4,
     "metadata": {},
     "output_type": "execute_result"
    }
   ],
   "source": [
    "set(temp_df) - set(master_df)"
   ]
  },
  {
   "cell_type": "code",
   "execution_count": 28,
   "metadata": {},
   "outputs": [],
   "source": [
    "Mapping = pd.read_csv(\"Carrier_and_mapping.csv\")\n",
    "Mapping.columns = ['UniqueCarrier', 'CarrierName']\n",
    "master_df = pd.merge(master_df, Mapping)"
   ]
  },
  {
   "cell_type": "code",
   "execution_count": 29,
   "metadata": {},
   "outputs": [],
   "source": [
    "master_df['Delayed'] = 0\n",
    "master_df.loc[master_df[(master_df['DepDel15'] == 1) | (master_df['ArrDel15'] == 1)].index, 'Delayed'] = 1\n",
    "# master_df.loc[master_df[(master_df['DepDel15'] == 1) | (master_df['ArrDel15'] == 1)].index]['Delayed'] "
   ]
  },
  {
   "cell_type": "code",
   "execution_count": 30,
   "metadata": {},
   "outputs": [],
   "source": [
    "master_df[\"CRSDepTime\"] = pd.to_datetime(master_df[\"CRSDepTime\"])\n",
    "master_df[\"ArrTime\"] = pd.to_datetime(master_df[\"ArrTime\"])\n",
    "master_df[\"DepTime\"] = pd.to_datetime(master_df[\"DepTime\"])\n",
    "master_df[\"CRSArrTime\"] = pd.to_datetime(master_df[\"CRSArrTime\"])\n",
    "master_df[\"CRSDep_Hours\"]=master_df[\"CRSDepTime\"].apply(lambda x: x.hour)\n",
    "master_df[\"CRSDep_Mins\"]=master_df[\"CRSDepTime\"].apply(lambda x:x.minute)\n",
    "master_df[\"Dep_Hours\"]=master_df[\"DepTime\"].apply(lambda x: x.hour)\n",
    "master_df[\"Dep_Mins\"]=master_df[\"DepTime\"].apply(lambda x:x.minute)\n",
    "master_df[\"CRSArr_Hours\"]=master_df[\"CRSArrTime\"].apply(lambda x: x.hour)\n",
    "master_df[\"CRSArr_Mins\"]=master_df[\"CRSArrTime\"].apply(lambda x:x.minute)\n",
    "master_df[\"Arr_Hours\"]=master_df[\"ArrTime\"].apply(lambda x: x.hour)\n",
    "master_df[\"Arr_Mins\"]=master_df[\"ArrTime\"].apply(lambda x:x.minute)"
   ]
  },
  {
   "cell_type": "code",
   "execution_count": 31,
   "metadata": {},
   "outputs": [],
   "source": [
    "master_df.to_csv(\"MasterDF_Updated.csv\", index=False)"
   ]
  },
  {
   "cell_type": "code",
   "execution_count": 25,
   "metadata": {},
   "outputs": [
    {
     "data": {
      "text/plain": [
       "Southwest Airlines Co.         1316684\n",
       "Delta Air Lines Inc.            922610\n",
       "American Airlines Inc.          883356\n",
       "Skywest Airlines Inc.           734505\n",
       "United Air Lines Inc.           589605\n",
       "JetBlue Airways                 291714\n",
       "Atlantic Southeast Airlines     261902\n",
       "Alaska Airlines Inc.            198667\n",
       "Spirit Air Lines                161073\n",
       "Republic                        123464\n",
       "Envoy Airline                   111576\n",
       "Frontier Airlines Inc.          110659\n",
       "Com Air                         108560\n",
       "Endevour Airlines                90587\n",
       "Hawaiian Airlines Inc.           81203\n",
       "Mesa Airlines                    79030\n",
       "Virgin America                   59410\n",
       "Allegiant Airways                39030\n",
       "Name: CarrierName, dtype: int64"
      ]
     },
     "execution_count": 25,
     "metadata": {},
     "output_type": "execute_result"
    }
   ],
   "source": [
    "master_df['CarrierName'].value_counts()"
   ]
  },
  {
   "cell_type": "code",
   "execution_count": null,
   "metadata": {},
   "outputs": [],
   "source": []
  }
 ],
 "metadata": {
  "kernelspec": {
   "display_name": "Python 3",
   "language": "python",
   "name": "python3"
  },
  "language_info": {
   "codemirror_mode": {
    "name": "ipython",
    "version": 3
   },
   "file_extension": ".py",
   "mimetype": "text/x-python",
   "name": "python",
   "nbconvert_exporter": "python",
   "pygments_lexer": "ipython3",
   "version": "3.6.4"
  }
 },
 "nbformat": 4,
 "nbformat_minor": 2
}
