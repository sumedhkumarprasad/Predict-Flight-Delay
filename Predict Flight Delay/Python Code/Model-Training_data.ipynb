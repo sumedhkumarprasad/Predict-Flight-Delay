{
 "cells": [
  {
   "cell_type": "markdown",
   "metadata": {},
   "source": [
    "## Prediction of flight delay\n",
    "\n",
    "### Team members: \n",
    "*Sumedh Kumar Prasad*   \n",
    "*Mohammed Thouseef*  \n",
    "*Aishwarya Sarda*   \n",
    "*Venkata Surya Teja Bhaskarabhatla*  "
   ]
  },
  {
   "cell_type": "code",
   "execution_count": 1,
   "metadata": {},
   "outputs": [],
   "source": [
    "import pandas as pd\n",
    "import numpy as np"
   ]
  },
  {
   "cell_type": "code",
   "execution_count": 2,
   "metadata": {},
   "outputs": [],
   "source": [
    "df = pd.read_csv(\"datasets/MasterDF_Updated.csv\")"
   ]
  },
  {
   "cell_type": "code",
   "execution_count": 3,
   "metadata": {},
   "outputs": [
    {
     "name": "stdout",
     "output_type": "stream",
     "text": [
      "<class 'pandas.core.frame.DataFrame'>\n",
      "RangeIndex: 6163635 entries, 0 to 6163634\n",
      "Data columns (total 58 columns):\n",
      "Year                    int64\n",
      "Quarter                 int64\n",
      "Month                   int64\n",
      "DayofMonth              int64\n",
      "DayOfWeek               int64\n",
      "FlightDate              object\n",
      "UniqueCarrier           object\n",
      "AirlineID               int64\n",
      "Carrier                 object\n",
      "TailNum                 object\n",
      "FlightNum               int64\n",
      "OriginAirportID         int64\n",
      "OriginAirportSeqID      int64\n",
      "OriginCityMarketID      int64\n",
      "Origin                  object\n",
      "OriginCityName          object\n",
      "OriginState             object\n",
      "OriginStateFips         int64\n",
      "OriginStateName         object\n",
      "OriginWac               int64\n",
      "DestAirportID           int64\n",
      "DestAirportSeqID        int64\n",
      "DestCityMarketID        int64\n",
      "Dest                    object\n",
      "DestCityName            object\n",
      "DestState               object\n",
      "DestStateFips           int64\n",
      "DestStateName           object\n",
      "DestWac                 int64\n",
      "CRSDepTime              int64\n",
      "DepTime                 float64\n",
      "DepDelay                float64\n",
      "DepDelayMinutes         float64\n",
      "DepDel15                float64\n",
      "DepartureDelayGroups    float64\n",
      "DepTimeBlk              object\n",
      "TaxiOut                 float64\n",
      "WheelsOff               float64\n",
      "WheelsOn                float64\n",
      "TaxiIn                  float64\n",
      "CRSArrTime              int64\n",
      "ArrTime                 float64\n",
      "ArrDelay                float64\n",
      "ArrDelayMinutes         float64\n",
      "ArrDel15                float64\n",
      "ArrivalDelayGroups      float64\n",
      "ArrTimeBlk              object\n",
      "Cancelled               float64\n",
      "Diverted                float64\n",
      "CRSElapsedTime          float64\n",
      "ActualElapsedTime       float64\n",
      "AirTime                 float64\n",
      "Flights                 float64\n",
      "Distance                float64\n",
      "DistanceGroup           int64\n",
      "DivAirportLandings      float64\n",
      "Delayed                 int64\n",
      "CarrierName             object\n",
      "dtypes: float64(22), int64(21), object(15)\n",
      "memory usage: 2.7+ GB\n"
     ]
    }
   ],
   "source": [
    "df.info()"
   ]
  },
  {
   "cell_type": "code",
   "execution_count": 8,
   "metadata": {},
   "outputs": [
    {
     "data": {
      "text/plain": [
       "(6163635, 38)"
      ]
     },
     "execution_count": 8,
     "metadata": {},
     "output_type": "execute_result"
    }
   ],
   "source": [
    "df.shape"
   ]
  },
  {
   "cell_type": "code",
   "execution_count": 4,
   "metadata": {},
   "outputs": [],
   "source": [
    "col_list = ['FlightDate', 'UniqueCarrier', 'TailNum', 'DepTimeBlk', 'CRSArrTime', 'ArrTime', 'ArrTimeBlk',\n",
    "            'Year', 'CRSDepTime', 'DepTime', 'ArrDel15', 'DepDel15', 'DepDelayMinutes', \n",
    "            'ArrDelay', 'DepDelay', 'DepDelayMinutes', 'Diverted', 'TaxiIn', 'TaxiOut', 'CRSElapsedTime','ActualElapsedTime']\n",
    "df = df.drop(col_list, axis=1)"
   ]
  },
  {
   "cell_type": "code",
   "execution_count": 5,
   "metadata": {},
   "outputs": [],
   "source": [
    "df[df.select_dtypes(['object']).columns] = df.select_dtypes(['object']).apply(lambda x: x.astype('category'))\n",
    "cat_columns = df.select_dtypes(['category']).columns\n",
    "for col in cat_columns:\n",
    "    df[col] = df[col].cat.codes"
   ]
  },
  {
   "cell_type": "code",
   "execution_count": 6,
   "metadata": {},
   "outputs": [],
   "source": [
    "from sklearn.model_selection import train_test_split\n",
    "train, test = train_test_split(df, test_size = 0.6)"
   ]
  },
  {
   "cell_type": "code",
   "execution_count": 7,
   "metadata": {},
   "outputs": [],
   "source": [
    "X_train = train.drop('Delayed', axis=1)\n",
    "y_train = train['Delayed']\n",
    "\n",
    "X_test = test.drop('Delayed', axis=1)\n",
    "y_test = test['Delayed']"
   ]
  },
  {
   "cell_type": "markdown",
   "metadata": {},
   "source": [
    "##### Create a data frame to capture metrics"
   ]
  },
  {
   "cell_type": "code",
   "execution_count": 9,
   "metadata": {},
   "outputs": [],
   "source": [
    "col_list = [\"Model\", \"Accuracy\", \"Precision\", \"Recall\"]\n",
    "Metrics_DF = pd.DataFrame(columns= col_list)\n",
    "temp_DF = pd.DataFrame(columns= col_list)"
   ]
  },
  {
   "cell_type": "code",
   "execution_count": 10,
   "metadata": {},
   "outputs": [
    {
     "data": {
      "text/html": [
       "<div>\n",
       "<style scoped>\n",
       "    .dataframe tbody tr th:only-of-type {\n",
       "        vertical-align: middle;\n",
       "    }\n",
       "\n",
       "    .dataframe tbody tr th {\n",
       "        vertical-align: top;\n",
       "    }\n",
       "\n",
       "    .dataframe thead th {\n",
       "        text-align: right;\n",
       "    }\n",
       "</style>\n",
       "<table border=\"1\" class=\"dataframe\">\n",
       "  <thead>\n",
       "    <tr style=\"text-align: right;\">\n",
       "      <th></th>\n",
       "      <th>Model</th>\n",
       "      <th>Accuracy</th>\n",
       "      <th>Precision</th>\n",
       "      <th>Recall</th>\n",
       "    </tr>\n",
       "  </thead>\n",
       "  <tbody>\n",
       "  </tbody>\n",
       "</table>\n",
       "</div>"
      ],
      "text/plain": [
       "Empty DataFrame\n",
       "Columns: [Model, Accuracy, Precision, Recall]\n",
       "Index: []"
      ]
     },
     "execution_count": 10,
     "metadata": {},
     "output_type": "execute_result"
    }
   ],
   "source": [
    "Metrics_DF"
   ]
  },
  {
   "cell_type": "code",
   "execution_count": 11,
   "metadata": {},
   "outputs": [],
   "source": [
    "from sklearn.metrics import accuracy_score\n",
    "from sklearn.metrics import recall_score\n",
    "from sklearn.metrics import precision_score"
   ]
  },
  {
   "cell_type": "markdown",
   "metadata": {},
   "source": [
    "#### 1.Logistic regression model"
   ]
  },
  {
   "cell_type": "code",
   "execution_count": 12,
   "metadata": {},
   "outputs": [
    {
     "data": {
      "text/plain": [
       "LogisticRegression(C=1.0, class_weight=None, dual=False, fit_intercept=True,\n",
       "          intercept_scaling=1, max_iter=100, multi_class='ovr', n_jobs=1,\n",
       "          penalty='l2', random_state=None, solver='liblinear', tol=0.0001,\n",
       "          verbose=0, warm_start=False)"
      ]
     },
     "execution_count": 12,
     "metadata": {},
     "output_type": "execute_result"
    }
   ],
   "source": [
    "from sklearn.linear_model import LogisticRegression\n",
    "LR_Model = LogisticRegression()\n",
    "LR_Model.fit(X_train, y_train)"
   ]
  },
  {
   "cell_type": "code",
   "execution_count": 13,
   "metadata": {},
   "outputs": [],
   "source": [
    "y_pred = LR_Model.predict(X_train)"
   ]
  },
  {
   "cell_type": "code",
   "execution_count": 14,
   "metadata": {},
   "outputs": [
    {
     "data": {
      "text/html": [
       "<div>\n",
       "<style scoped>\n",
       "    .dataframe tbody tr th:only-of-type {\n",
       "        vertical-align: middle;\n",
       "    }\n",
       "\n",
       "    .dataframe tbody tr th {\n",
       "        vertical-align: top;\n",
       "    }\n",
       "\n",
       "    .dataframe thead th {\n",
       "        text-align: right;\n",
       "    }\n",
       "</style>\n",
       "<table border=\"1\" class=\"dataframe\">\n",
       "  <thead>\n",
       "    <tr style=\"text-align: right;\">\n",
       "      <th>col_0</th>\n",
       "      <th>0</th>\n",
       "      <th>1</th>\n",
       "    </tr>\n",
       "    <tr>\n",
       "      <th>Delayed</th>\n",
       "      <th></th>\n",
       "      <th></th>\n",
       "    </tr>\n",
       "  </thead>\n",
       "  <tbody>\n",
       "    <tr>\n",
       "      <th>0</th>\n",
       "      <td>1931795</td>\n",
       "      <td>0</td>\n",
       "    </tr>\n",
       "    <tr>\n",
       "      <th>1</th>\n",
       "      <td>296391</td>\n",
       "      <td>237268</td>\n",
       "    </tr>\n",
       "  </tbody>\n",
       "</table>\n",
       "</div>"
      ],
      "text/plain": [
       "col_0          0       1\n",
       "Delayed                 \n",
       "0        1931795       0\n",
       "1         296391  237268"
      ]
     },
     "execution_count": 14,
     "metadata": {},
     "output_type": "execute_result"
    }
   ],
   "source": [
    "pd.crosstab(y_train, y_pred)"
   ]
  },
  {
   "cell_type": "code",
   "execution_count": 16,
   "metadata": {},
   "outputs": [
    {
     "data": {
      "text/plain": [
       "0.8797823849076073"
      ]
     },
     "execution_count": 16,
     "metadata": {},
     "output_type": "execute_result"
    }
   ],
   "source": [
    "accuracy_score(y_train, y_pred)"
   ]
  },
  {
   "cell_type": "code",
   "execution_count": 17,
   "metadata": {},
   "outputs": [],
   "source": [
    "col_list = X_train.columns\n",
    "LR_output = pd.DataFrame(LR_Model.coef_, columns=col_list)"
   ]
  },
  {
   "cell_type": "code",
   "execution_count": 18,
   "metadata": {},
   "outputs": [
    {
     "data": {
      "text/html": [
       "<div>\n",
       "<style scoped>\n",
       "    .dataframe tbody tr th:only-of-type {\n",
       "        vertical-align: middle;\n",
       "    }\n",
       "\n",
       "    .dataframe tbody tr th {\n",
       "        vertical-align: top;\n",
       "    }\n",
       "\n",
       "    .dataframe thead th {\n",
       "        text-align: right;\n",
       "    }\n",
       "</style>\n",
       "<table border=\"1\" class=\"dataframe\">\n",
       "  <thead>\n",
       "    <tr style=\"text-align: right;\">\n",
       "      <th></th>\n",
       "      <th>0</th>\n",
       "    </tr>\n",
       "  </thead>\n",
       "  <tbody>\n",
       "    <tr>\n",
       "      <th>Quarter</th>\n",
       "      <td>-1.058882e-04</td>\n",
       "    </tr>\n",
       "    <tr>\n",
       "      <th>Month</th>\n",
       "      <td>-3.083191e-04</td>\n",
       "    </tr>\n",
       "    <tr>\n",
       "      <th>DayofMonth</th>\n",
       "      <td>-3.923896e-04</td>\n",
       "    </tr>\n",
       "    <tr>\n",
       "      <th>DayOfWeek</th>\n",
       "      <td>-8.245011e-05</td>\n",
       "    </tr>\n",
       "    <tr>\n",
       "      <th>AirlineID</th>\n",
       "      <td>-2.380020e-04</td>\n",
       "    </tr>\n",
       "    <tr>\n",
       "      <th>Carrier</th>\n",
       "      <td>5.605180e-04</td>\n",
       "    </tr>\n",
       "    <tr>\n",
       "      <th>FlightNum</th>\n",
       "      <td>2.668685e-05</td>\n",
       "    </tr>\n",
       "    <tr>\n",
       "      <th>OriginAirportID</th>\n",
       "      <td>1.361561e-07</td>\n",
       "    </tr>\n",
       "    <tr>\n",
       "      <th>OriginAirportSeqID</th>\n",
       "      <td>2.703959e-07</td>\n",
       "    </tr>\n",
       "    <tr>\n",
       "      <th>OriginCityMarketID</th>\n",
       "      <td>6.239553e-06</td>\n",
       "    </tr>\n",
       "    <tr>\n",
       "      <th>Origin</th>\n",
       "      <td>-3.402951e-04</td>\n",
       "    </tr>\n",
       "    <tr>\n",
       "      <th>OriginCityName</th>\n",
       "      <td>-6.163110e-05</td>\n",
       "    </tr>\n",
       "    <tr>\n",
       "      <th>OriginState</th>\n",
       "      <td>2.532890e-05</td>\n",
       "    </tr>\n",
       "    <tr>\n",
       "      <th>OriginStateFips</th>\n",
       "      <td>4.256704e-05</td>\n",
       "    </tr>\n",
       "    <tr>\n",
       "      <th>OriginStateName</th>\n",
       "      <td>-4.515273e-05</td>\n",
       "    </tr>\n",
       "    <tr>\n",
       "      <th>OriginWac</th>\n",
       "      <td>-1.459089e-04</td>\n",
       "    </tr>\n",
       "    <tr>\n",
       "      <th>DestAirportID</th>\n",
       "      <td>1.433967e-07</td>\n",
       "    </tr>\n",
       "    <tr>\n",
       "      <th>DestAirportSeqID</th>\n",
       "      <td>-1.357723e-07</td>\n",
       "    </tr>\n",
       "    <tr>\n",
       "      <th>DestCityMarketID</th>\n",
       "      <td>3.970562e-05</td>\n",
       "    </tr>\n",
       "    <tr>\n",
       "      <th>Dest</th>\n",
       "      <td>-2.414263e-04</td>\n",
       "    </tr>\n",
       "    <tr>\n",
       "      <th>DestCityName</th>\n",
       "      <td>4.032751e-04</td>\n",
       "    </tr>\n",
       "    <tr>\n",
       "      <th>DestState</th>\n",
       "      <td>-1.240090e-04</td>\n",
       "    </tr>\n",
       "    <tr>\n",
       "      <th>DestStateFips</th>\n",
       "      <td>-5.547242e-05</td>\n",
       "    </tr>\n",
       "    <tr>\n",
       "      <th>DestStateName</th>\n",
       "      <td>-1.817909e-04</td>\n",
       "    </tr>\n",
       "    <tr>\n",
       "      <th>DestWac</th>\n",
       "      <td>-1.179185e-03</td>\n",
       "    </tr>\n",
       "    <tr>\n",
       "      <th>DepartureDelayGroups</th>\n",
       "      <td>3.759139e-03</td>\n",
       "    </tr>\n",
       "    <tr>\n",
       "      <th>WheelsOff</th>\n",
       "      <td>6.600601e-04</td>\n",
       "    </tr>\n",
       "    <tr>\n",
       "      <th>WheelsOn</th>\n",
       "      <td>5.535483e-05</td>\n",
       "    </tr>\n",
       "    <tr>\n",
       "      <th>ArrDelayMinutes</th>\n",
       "      <td>4.897737e-02</td>\n",
       "    </tr>\n",
       "    <tr>\n",
       "      <th>ArrivalDelayGroups</th>\n",
       "      <td>4.272626e-03</td>\n",
       "    </tr>\n",
       "    <tr>\n",
       "      <th>Cancelled</th>\n",
       "      <td>0.000000e+00</td>\n",
       "    </tr>\n",
       "    <tr>\n",
       "      <th>AirTime</th>\n",
       "      <td>3.112447e-03</td>\n",
       "    </tr>\n",
       "    <tr>\n",
       "      <th>Flights</th>\n",
       "      <td>3.418775e-07</td>\n",
       "    </tr>\n",
       "    <tr>\n",
       "      <th>Distance</th>\n",
       "      <td>-1.311092e-04</td>\n",
       "    </tr>\n",
       "    <tr>\n",
       "      <th>DistanceGroup</th>\n",
       "      <td>2.151868e-06</td>\n",
       "    </tr>\n",
       "    <tr>\n",
       "      <th>DivAirportLandings</th>\n",
       "      <td>0.000000e+00</td>\n",
       "    </tr>\n",
       "    <tr>\n",
       "      <th>CarrierName</th>\n",
       "      <td>6.024512e-04</td>\n",
       "    </tr>\n",
       "  </tbody>\n",
       "</table>\n",
       "</div>"
      ],
      "text/plain": [
       "                                 0\n",
       "Quarter              -1.058882e-04\n",
       "Month                -3.083191e-04\n",
       "DayofMonth           -3.923896e-04\n",
       "DayOfWeek            -8.245011e-05\n",
       "AirlineID            -2.380020e-04\n",
       "Carrier               5.605180e-04\n",
       "FlightNum             2.668685e-05\n",
       "OriginAirportID       1.361561e-07\n",
       "OriginAirportSeqID    2.703959e-07\n",
       "OriginCityMarketID    6.239553e-06\n",
       "Origin               -3.402951e-04\n",
       "OriginCityName       -6.163110e-05\n",
       "OriginState           2.532890e-05\n",
       "OriginStateFips       4.256704e-05\n",
       "OriginStateName      -4.515273e-05\n",
       "OriginWac            -1.459089e-04\n",
       "DestAirportID         1.433967e-07\n",
       "DestAirportSeqID     -1.357723e-07\n",
       "DestCityMarketID      3.970562e-05\n",
       "Dest                 -2.414263e-04\n",
       "DestCityName          4.032751e-04\n",
       "DestState            -1.240090e-04\n",
       "DestStateFips        -5.547242e-05\n",
       "DestStateName        -1.817909e-04\n",
       "DestWac              -1.179185e-03\n",
       "DepartureDelayGroups  3.759139e-03\n",
       "WheelsOff             6.600601e-04\n",
       "WheelsOn              5.535483e-05\n",
       "ArrDelayMinutes       4.897737e-02\n",
       "ArrivalDelayGroups    4.272626e-03\n",
       "Cancelled             0.000000e+00\n",
       "AirTime               3.112447e-03\n",
       "Flights               3.418775e-07\n",
       "Distance             -1.311092e-04\n",
       "DistanceGroup         2.151868e-06\n",
       "DivAirportLandings    0.000000e+00\n",
       "CarrierName           6.024512e-04"
      ]
     },
     "execution_count": 18,
     "metadata": {},
     "output_type": "execute_result"
    }
   ],
   "source": [
    "LR_output.T"
   ]
  },
  {
   "cell_type": "code",
   "execution_count": 19,
   "metadata": {},
   "outputs": [],
   "source": [
    "temp_DF.loc[1, 'Model']  = \"Logistic regression\"\n",
    "temp_DF.loc[1, 'Accuracy'] = accuracy_score(y_train, y_pred)\n",
    "temp_DF.loc[1, \"Precision\"] = precision_score(y_train, y_pred)\n",
    "temp_DF.loc[1, \"Recall\"] = recall_score(y_train, y_pred)\n",
    "Metrics_DF = pd.concat([Metrics_DF, temp_DF], ignore_index=True)"
   ]
  },
  {
   "cell_type": "markdown",
   "metadata": {},
   "source": [
    "#### 2. KNN "
   ]
  },
  {
   "cell_type": "code",
   "execution_count": 20,
   "metadata": {},
   "outputs": [
    {
     "data": {
      "text/plain": [
       "KNeighborsClassifier(algorithm='auto', leaf_size=30, metric='minkowski',\n",
       "           metric_params=None, n_jobs=1, n_neighbors=3, p=2,\n",
       "           weights='uniform')"
      ]
     },
     "execution_count": 20,
     "metadata": {},
     "output_type": "execute_result"
    }
   ],
   "source": [
    "from sklearn.neighbors import KNeighborsClassifier\n",
    "knn_model = KNeighborsClassifier(n_neighbors=3)\n",
    "knn_model.fit(X_train, y_train)"
   ]
  },
  {
   "cell_type": "code",
   "execution_count": 22,
   "metadata": {},
   "outputs": [
    {
     "data": {
      "text/html": [
       "<div>\n",
       "<style scoped>\n",
       "    .dataframe tbody tr th:only-of-type {\n",
       "        vertical-align: middle;\n",
       "    }\n",
       "\n",
       "    .dataframe tbody tr th {\n",
       "        vertical-align: top;\n",
       "    }\n",
       "\n",
       "    .dataframe thead th {\n",
       "        text-align: right;\n",
       "    }\n",
       "</style>\n",
       "<table border=\"1\" class=\"dataframe\">\n",
       "  <thead>\n",
       "    <tr style=\"text-align: right;\">\n",
       "      <th>col_0</th>\n",
       "      <th>0</th>\n",
       "      <th>1</th>\n",
       "    </tr>\n",
       "    <tr>\n",
       "      <th>Delayed</th>\n",
       "      <th></th>\n",
       "      <th></th>\n",
       "    </tr>\n",
       "  </thead>\n",
       "  <tbody>\n",
       "    <tr>\n",
       "      <th>0</th>\n",
       "      <td>1906324</td>\n",
       "      <td>25471</td>\n",
       "    </tr>\n",
       "    <tr>\n",
       "      <th>1</th>\n",
       "      <td>97556</td>\n",
       "      <td>436103</td>\n",
       "    </tr>\n",
       "  </tbody>\n",
       "</table>\n",
       "</div>"
      ],
      "text/plain": [
       "col_0          0       1\n",
       "Delayed                 \n",
       "0        1906324   25471\n",
       "1          97556  436103"
      ]
     },
     "execution_count": 22,
     "metadata": {},
     "output_type": "execute_result"
    }
   ],
   "source": [
    "y_pred = knn_model.predict(X_train)\n",
    "pd.crosstab(y_train ,y_pred)"
   ]
  },
  {
   "cell_type": "code",
   "execution_count": 24,
   "metadata": {},
   "outputs": [
    {
     "data": {
      "text/plain": [
       "0.9500996571016941"
      ]
     },
     "execution_count": 24,
     "metadata": {},
     "output_type": "execute_result"
    }
   ],
   "source": [
    "accuracy_score(y_train, y_pred)"
   ]
  },
  {
   "cell_type": "code",
   "execution_count": 25,
   "metadata": {},
   "outputs": [],
   "source": [
    "temp_DF.loc[1, 'Model']  = \"KNN, n = 3\"\n",
    "temp_DF.loc[1, 'Accuracy'] = accuracy_score(y_train, y_pred)\n",
    "temp_DF.loc[1, \"Precision\"] = precision_score(y_train, y_pred)\n",
    "temp_DF.loc[1, \"Recall\"] = recall_score(y_train, y_pred)\n",
    "Metrics_DF = pd.concat([Metrics_DF, temp_DF], ignore_index=True)"
   ]
  },
  {
   "cell_type": "markdown",
   "metadata": {},
   "source": [
    "#### 3. NB"
   ]
  },
  {
   "cell_type": "code",
   "execution_count": 26,
   "metadata": {},
   "outputs": [
    {
     "data": {
      "text/plain": [
       "GaussianNB(priors=None)"
      ]
     },
     "execution_count": 26,
     "metadata": {},
     "output_type": "execute_result"
    }
   ],
   "source": [
    "from sklearn.naive_bayes import GaussianNB\n",
    "NB_model = GaussianNB()\n",
    "NB_model.fit(X_train, y_train)"
   ]
  },
  {
   "cell_type": "code",
   "execution_count": 27,
   "metadata": {},
   "outputs": [
    {
     "data": {
      "text/html": [
       "<div>\n",
       "<style scoped>\n",
       "    .dataframe tbody tr th:only-of-type {\n",
       "        vertical-align: middle;\n",
       "    }\n",
       "\n",
       "    .dataframe tbody tr th {\n",
       "        vertical-align: top;\n",
       "    }\n",
       "\n",
       "    .dataframe thead th {\n",
       "        text-align: right;\n",
       "    }\n",
       "</style>\n",
       "<table border=\"1\" class=\"dataframe\">\n",
       "  <thead>\n",
       "    <tr style=\"text-align: right;\">\n",
       "      <th>col_0</th>\n",
       "      <th>0</th>\n",
       "      <th>1</th>\n",
       "    </tr>\n",
       "    <tr>\n",
       "      <th>Delayed</th>\n",
       "      <th></th>\n",
       "      <th></th>\n",
       "    </tr>\n",
       "  </thead>\n",
       "  <tbody>\n",
       "    <tr>\n",
       "      <th>0</th>\n",
       "      <td>1931599</td>\n",
       "      <td>196</td>\n",
       "    </tr>\n",
       "    <tr>\n",
       "      <th>1</th>\n",
       "      <td>130793</td>\n",
       "      <td>402866</td>\n",
       "    </tr>\n",
       "  </tbody>\n",
       "</table>\n",
       "</div>"
      ],
      "text/plain": [
       "col_0          0       1\n",
       "Delayed                 \n",
       "0        1931599     196\n",
       "1         130793  402866"
      ]
     },
     "execution_count": 27,
     "metadata": {},
     "output_type": "execute_result"
    }
   ],
   "source": [
    "y_pred = NB_model.predict(X_train)\n",
    "pd.crosstab(y_train, y_pred)"
   ]
  },
  {
   "cell_type": "code",
   "execution_count": 29,
   "metadata": {},
   "outputs": [
    {
     "data": {
      "text/plain": [
       "0.9468702316084583"
      ]
     },
     "execution_count": 29,
     "metadata": {},
     "output_type": "execute_result"
    }
   ],
   "source": [
    "accuracy_score(y_train, y_pred)"
   ]
  },
  {
   "cell_type": "code",
   "execution_count": 30,
   "metadata": {},
   "outputs": [],
   "source": [
    "temp_DF.loc[1, 'Model']  = \"NB\"\n",
    "temp_DF.loc[1, 'Accuracy'] = accuracy_score(y_train, y_pred)\n",
    "temp_DF.loc[1, \"Precision\"] = precision_score(y_train, y_pred)\n",
    "temp_DF.loc[1, \"Recall\"] = recall_score(y_train, y_pred)\n",
    "Metrics_DF = pd.concat([Metrics_DF, temp_DF], ignore_index=True)"
   ]
  },
  {
   "cell_type": "code",
   "execution_count": 32,
   "metadata": {},
   "outputs": [
    {
     "name": "stdout",
     "output_type": "stream",
     "text": [
      "Area under the ROC curve: 0.12259433932909089\n"
     ]
    },
    {
     "data": {
      "text/plain": [
       "Text(0.5,1,'Receiver operating characteristic (ROC)')"
      ]
     },
     "execution_count": 32,
     "metadata": {},
     "output_type": "execute_result"
    },
    {
     "data": {
      "image/png": "[encoded data removed]",
      "text/plain": [
       "<Figure size 432x288 with 1 Axes>"
      ]
     },
     "metadata": {},
     "output_type": "display_data"
    }
   ],
   "source": [
    "from sklearn.metrics import roc_curve\n",
    "import matplotlib\n",
    "from matplotlib import pyplot as plt\n",
    "\n",
    "fpr, tpr, _ = roc_curve(y_train, y_pred)\n",
    "auc = np.trapz(fpr,tpr)\n",
    "print('Area under the ROC curve: ' + str(auc))\n",
    " \n",
    "fig = plt.figure(1)\n",
    "plt.plot(fpr,tpr,color='green')\n",
    "plt.xlabel('False positive rate (FPR)')\n",
    "plt.ylabel('True positive rate (TPR)')\n",
    "plt.title('Receiver operating characteristic (ROC)')"
   ]
  },
  {
   "cell_type": "markdown",
   "metadata": {},
   "source": [
    "#### 4. Decision tree"
   ]
  },
  {
   "cell_type": "code",
   "execution_count": 33,
   "metadata": {},
   "outputs": [
    {
     "data": {
      "text/plain": [
       "DecisionTreeClassifier(class_weight=None, criterion='gini', max_depth=None,\n",
       "            max_features=None, max_leaf_nodes=None,\n",
       "            min_impurity_decrease=0.0, min_impurity_split=None,\n",
       "            min_samples_leaf=1, min_samples_split=2,\n",
       "            min_weight_fraction_leaf=0.0, presort=False, random_state=None,\n",
       "            splitter='best')"
      ]
     },
     "execution_count": 33,
     "metadata": {},
     "output_type": "execute_result"
    }
   ],
   "source": [
    "from sklearn.tree import DecisionTreeClassifier\n",
    "DT_model = DecisionTreeClassifier()\n",
    "\n",
    "DT_model.fit(X_train, y_train)"
   ]
  },
  {
   "cell_type": "code",
   "execution_count": 34,
   "metadata": {},
   "outputs": [
    {
     "data": {
      "text/html": [
       "<div>\n",
       "<style scoped>\n",
       "    .dataframe tbody tr th:only-of-type {\n",
       "        vertical-align: middle;\n",
       "    }\n",
       "\n",
       "    .dataframe tbody tr th {\n",
       "        vertical-align: top;\n",
       "    }\n",
       "\n",
       "    .dataframe thead th {\n",
       "        text-align: right;\n",
       "    }\n",
       "</style>\n",
       "<table border=\"1\" class=\"dataframe\">\n",
       "  <thead>\n",
       "    <tr style=\"text-align: right;\">\n",
       "      <th>col_0</th>\n",
       "      <th>0</th>\n",
       "      <th>1</th>\n",
       "    </tr>\n",
       "    <tr>\n",
       "      <th>Delayed</th>\n",
       "      <th></th>\n",
       "      <th></th>\n",
       "    </tr>\n",
       "  </thead>\n",
       "  <tbody>\n",
       "    <tr>\n",
       "      <th>0</th>\n",
       "      <td>1931795</td>\n",
       "      <td>0</td>\n",
       "    </tr>\n",
       "    <tr>\n",
       "      <th>1</th>\n",
       "      <td>0</td>\n",
       "      <td>533659</td>\n",
       "    </tr>\n",
       "  </tbody>\n",
       "</table>\n",
       "</div>"
      ],
      "text/plain": [
       "col_0          0       1\n",
       "Delayed                 \n",
       "0        1931795       0\n",
       "1              0  533659"
      ]
     },
     "execution_count": 34,
     "metadata": {},
     "output_type": "execute_result"
    }
   ],
   "source": [
    "y_pred = DT_model.predict(X_train)\n",
    "pd.crosstab(y_train, y_pred)"
   ]
  },
  {
   "cell_type": "code",
   "execution_count": 37,
   "metadata": {},
   "outputs": [
    {
     "data": {
      "text/plain": [
       "1.0"
      ]
     },
     "execution_count": 37,
     "metadata": {},
     "output_type": "execute_result"
    }
   ],
   "source": [
    "accuracy_score(y_train, y_pred)"
   ]
  },
  {
   "cell_type": "code",
   "execution_count": 38,
   "metadata": {},
   "outputs": [],
   "source": [
    "temp_DF.loc[1, 'Model']  = \"Decision tree\"\n",
    "temp_DF.loc[1, 'Accuracy'] = accuracy_score(y_train, y_pred)\n",
    "temp_DF.loc[1, \"Precision\"] = precision_score(y_train, y_pred)\n",
    "temp_DF.loc[1, \"Recall\"] = recall_score(y_train, y_pred)\n",
    "Metrics_DF = pd.concat([Metrics_DF, temp_DF], ignore_index=True)"
   ]
  },
  {
   "cell_type": "code",
   "execution_count": 39,
   "metadata": {},
   "outputs": [
    {
     "data": {
      "text/html": [
       "<div>\n",
       "<style scoped>\n",
       "    .dataframe tbody tr th:only-of-type {\n",
       "        vertical-align: middle;\n",
       "    }\n",
       "\n",
       "    .dataframe tbody tr th {\n",
       "        vertical-align: top;\n",
       "    }\n",
       "\n",
       "    .dataframe thead th {\n",
       "        text-align: right;\n",
       "    }\n",
       "</style>\n",
       "<table border=\"1\" class=\"dataframe\">\n",
       "  <thead>\n",
       "    <tr style=\"text-align: right;\">\n",
       "      <th></th>\n",
       "      <th>Model</th>\n",
       "      <th>Accuracy</th>\n",
       "      <th>Precision</th>\n",
       "      <th>Recall</th>\n",
       "    </tr>\n",
       "  </thead>\n",
       "  <tbody>\n",
       "    <tr>\n",
       "      <th>0</th>\n",
       "      <td>Logistic regression</td>\n",
       "      <td>0.879782</td>\n",
       "      <td>1</td>\n",
       "      <td>0.444606</td>\n",
       "    </tr>\n",
       "    <tr>\n",
       "      <th>1</th>\n",
       "      <td>KNN, n = 3</td>\n",
       "      <td>0.9501</td>\n",
       "      <td>0.944817</td>\n",
       "      <td>0.817194</td>\n",
       "    </tr>\n",
       "    <tr>\n",
       "      <th>2</th>\n",
       "      <td>NB</td>\n",
       "      <td>0.94687</td>\n",
       "      <td>0.999514</td>\n",
       "      <td>0.754913</td>\n",
       "    </tr>\n",
       "    <tr>\n",
       "      <th>3</th>\n",
       "      <td>Decision tree</td>\n",
       "      <td>1</td>\n",
       "      <td>1</td>\n",
       "      <td>1</td>\n",
       "    </tr>\n",
       "  </tbody>\n",
       "</table>\n",
       "</div>"
      ],
      "text/plain": [
       "                 Model  Accuracy Precision    Recall\n",
       "0  Logistic regression  0.879782         1  0.444606\n",
       "1           KNN, n = 3    0.9501  0.944817  0.817194\n",
       "2                   NB   0.94687  0.999514  0.754913\n",
       "3        Decision tree         1         1         1"
      ]
     },
     "execution_count": 39,
     "metadata": {},
     "output_type": "execute_result"
    }
   ],
   "source": [
    "Metrics_DF"
   ]
  },
  {
   "cell_type": "markdown",
   "metadata": {},
   "source": [
    "# Thank you"
   ]
  }
 ],
 "metadata": {
  "kernelspec": {
   "display_name": "Python 3",
   "language": "python",
   "name": "python3"
  },
  "language_info": {
   "codemirror_mode": {
    "name": "ipython",
    "version": 3
   },
   "file_extension": ".py",
   "mimetype": "text/x-python",
   "name": "python",
   "nbconvert_exporter": "python",
   "pygments_lexer": "ipython3",
   "version": "3.6.5"
  }
 },
 "nbformat": 4,
 "nbformat_minor": 2
}
