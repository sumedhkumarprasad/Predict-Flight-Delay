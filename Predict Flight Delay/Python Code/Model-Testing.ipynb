{
 "cells": [
  {
   "cell_type": "markdown",
   "metadata": {},
   "source": [
    "## Prediction of flight delay\n",
    "\n",
    "### Team members: \n",
    "*Sumedh Kumar Prasad*   \n",
    "*Mohammed Thouseef*  \n",
    "*Aishwarya Sarda*   \n",
    "*Venkata Surya Teja Bhaskarabhatla*  "
   ]
  },
  {
   "cell_type": "code",
   "execution_count": 1,
   "metadata": {},
   "outputs": [],
   "source": [
    "import pandas as pd\n",
    "import numpy as np"
   ]
  },
  {
   "cell_type": "code",
   "execution_count": 186,
   "metadata": {},
   "outputs": [],
   "source": [
    "df = pd.read_csv(\"datasets/MasterDF_Updated.csv\")"
   ]
  },
  {
   "cell_type": "code",
   "execution_count": 85,
   "metadata": {},
   "outputs": [
    {
     "name": "stdout",
     "output_type": "stream",
     "text": [
      "<class 'pandas.core.frame.DataFrame'>\n",
      "RangeIndex: 6163635 entries, 0 to 6163634\n",
      "Data columns (total 48 columns):\n",
      "Quarter                 int64\n",
      "Month                   int64\n",
      "DayofMonth              int64\n",
      "DayOfWeek               int64\n",
      "AirlineID               int64\n",
      "Carrier                 int8\n",
      "FlightNum               int64\n",
      "OriginAirportID         int64\n",
      "OriginAirportSeqID      int64\n",
      "OriginCityMarketID      int64\n",
      "Origin                  int16\n",
      "OriginCityName          int16\n",
      "OriginState             int8\n",
      "OriginStateFips         int64\n",
      "OriginStateName         int8\n",
      "OriginWac               int64\n",
      "DestAirportID           int64\n",
      "DestAirportSeqID        int64\n",
      "DestCityMarketID        int64\n",
      "Dest                    int16\n",
      "DestCityName            int16\n",
      "DestState               int8\n",
      "DestStateFips           int64\n",
      "DestStateName           int8\n",
      "DestWac                 int64\n",
      "DepDelay                float64\n",
      "DepDelayMinutes         float64\n",
      "DepDel15                float64\n",
      "DepartureDelayGroups    float64\n",
      "TaxiOut                 float64\n",
      "WheelsOff               float64\n",
      "WheelsOn                float64\n",
      "TaxiIn                  float64\n",
      "ArrDelay                float64\n",
      "ArrDelayMinutes         float64\n",
      "ArrDel15                float64\n",
      "ArrivalDelayGroups      float64\n",
      "Cancelled               float64\n",
      "Diverted                float64\n",
      "CRSElapsedTime          float64\n",
      "ActualElapsedTime       float64\n",
      "AirTime                 float64\n",
      "Flights                 float64\n",
      "Distance                float64\n",
      "DistanceGroup           int64\n",
      "DivAirportLandings      float64\n",
      "Delayed                 int64\n",
      "CarrierName             int8\n",
      "dtypes: float64(20), int16(4), int64(18), int8(6)\n",
      "memory usage: 1.8 GB\n"
     ]
    }
   ],
   "source": [
    "df.info()"
   ]
  },
  {
   "cell_type": "code",
   "execution_count": 188,
   "metadata": {},
   "outputs": [],
   "source": [
    "col_list = ['FlightDate', 'UniqueCarrier', 'TailNum', 'DepTimeBlk', 'CRSArrTime', 'ArrTime', 'ArrTimeBlk',\n",
    "            'Year', 'CRSDepTime', 'DepTime', 'ArrDel15', 'DepDel15', 'DepDelayMinutes', \n",
    "            'ArrDelay', 'DepDelay', 'DepDelayMinutes', 'Diverted', 'TaxiIn', 'TaxiOut', 'CRSElapsedTime','ActualElapsedTime']\n",
    "df = df.drop(col_list, axis=1)"
   ]
  },
  {
   "cell_type": "code",
   "execution_count": 189,
   "metadata": {},
   "outputs": [],
   "source": [
    "df[df.select_dtypes(['object']).columns] = df.select_dtypes(['object']).apply(lambda x: x.astype('category'))\n",
    "cat_columns = df.select_dtypes(['category']).columns\n",
    "for col in cat_columns:\n",
    "    df[col] = df[col].cat.codes"
   ]
  },
  {
   "cell_type": "code",
   "execution_count": 190,
   "metadata": {},
   "outputs": [],
   "source": [
    "from sklearn.model_selection import train_test_split\n",
    "train, test = train_test_split(df, test_size = 0.6)"
   ]
  },
  {
   "cell_type": "code",
   "execution_count": 191,
   "metadata": {},
   "outputs": [],
   "source": [
    "X_train = train.drop('Delayed', axis=1)\n",
    "y_train = train['Delayed']\n",
    "\n",
    "X_test = test.drop('Delayed', axis=1)\n",
    "y_test = test['Delayed']"
   ]
  },
  {
   "cell_type": "markdown",
   "metadata": {},
   "source": [
    "##### Create a data frame to capture metrics"
   ]
  },
  {
   "cell_type": "code",
   "execution_count": 195,
   "metadata": {},
   "outputs": [],
   "source": [
    "col_list = [\"Model\", \"Accuracy\", \"Precision\", \"Recall\"]\n",
    "Metrics_DF = pd.DataFrame(columns= col_list)\n",
    "temp_DF = pd.DataFrame(columns= col_list)"
   ]
  },
  {
   "cell_type": "code",
   "execution_count": 196,
   "metadata": {},
   "outputs": [
    {
     "data": {
      "text/html": [
       "<div>\n",
       "<style scoped>\n",
       "    .dataframe tbody tr th:only-of-type {\n",
       "        vertical-align: middle;\n",
       "    }\n",
       "\n",
       "    .dataframe tbody tr th {\n",
       "        vertical-align: top;\n",
       "    }\n",
       "\n",
       "    .dataframe thead th {\n",
       "        text-align: right;\n",
       "    }\n",
       "</style>\n",
       "<table border=\"1\" class=\"dataframe\">\n",
       "  <thead>\n",
       "    <tr style=\"text-align: right;\">\n",
       "      <th></th>\n",
       "      <th>Model</th>\n",
       "      <th>Accuracy</th>\n",
       "      <th>Precision</th>\n",
       "      <th>Recall</th>\n",
       "    </tr>\n",
       "  </thead>\n",
       "  <tbody>\n",
       "  </tbody>\n",
       "</table>\n",
       "</div>"
      ],
      "text/plain": [
       "Empty DataFrame\n",
       "Columns: [Model, Accuracy, Precision, Recall]\n",
       "Index: []"
      ]
     },
     "execution_count": 196,
     "metadata": {},
     "output_type": "execute_result"
    }
   ],
   "source": [
    "Metrics_DF"
   ]
  },
  {
   "cell_type": "code",
   "execution_count": 197,
   "metadata": {},
   "outputs": [],
   "source": [
    "from sklearn.metrics import accuracy_score\n",
    "from sklearn.metrics import recall_score\n",
    "from sklearn.metrics import precision_score"
   ]
  },
  {
   "cell_type": "markdown",
   "metadata": {},
   "source": [
    "#### 1.Logistic regression model"
   ]
  },
  {
   "cell_type": "code",
   "execution_count": 198,
   "metadata": {},
   "outputs": [
    {
     "data": {
      "text/plain": [
       "LogisticRegression(C=1.0, class_weight=None, dual=False, fit_intercept=True,\n",
       "          intercept_scaling=1, max_iter=100, multi_class='ovr', n_jobs=1,\n",
       "          penalty='l2', random_state=None, solver='liblinear', tol=0.0001,\n",
       "          verbose=0, warm_start=False)"
      ]
     },
     "execution_count": 198,
     "metadata": {},
     "output_type": "execute_result"
    }
   ],
   "source": [
    "from sklearn.linear_model import LogisticRegression\n",
    "LR_Model = LogisticRegression()\n",
    "LR_Model.fit(X_train, y_train)"
   ]
  },
  {
   "cell_type": "code",
   "execution_count": 199,
   "metadata": {},
   "outputs": [],
   "source": [
    "y_pred = LR_Model.predict(X_test)"
   ]
  },
  {
   "cell_type": "code",
   "execution_count": 200,
   "metadata": {},
   "outputs": [
    {
     "data": {
      "text/html": [
       "<div>\n",
       "<style scoped>\n",
       "    .dataframe tbody tr th:only-of-type {\n",
       "        vertical-align: middle;\n",
       "    }\n",
       "\n",
       "    .dataframe tbody tr th {\n",
       "        vertical-align: top;\n",
       "    }\n",
       "\n",
       "    .dataframe thead th {\n",
       "        text-align: right;\n",
       "    }\n",
       "</style>\n",
       "<table border=\"1\" class=\"dataframe\">\n",
       "  <thead>\n",
       "    <tr style=\"text-align: right;\">\n",
       "      <th>col_0</th>\n",
       "      <th>0</th>\n",
       "      <th>1</th>\n",
       "    </tr>\n",
       "    <tr>\n",
       "      <th>Delayed</th>\n",
       "      <th></th>\n",
       "      <th></th>\n",
       "    </tr>\n",
       "  </thead>\n",
       "  <tbody>\n",
       "    <tr>\n",
       "      <th>0</th>\n",
       "      <td>2897097</td>\n",
       "      <td>0</td>\n",
       "    </tr>\n",
       "    <tr>\n",
       "      <th>1</th>\n",
       "      <td>414617</td>\n",
       "      <td>386467</td>\n",
       "    </tr>\n",
       "  </tbody>\n",
       "</table>\n",
       "</div>"
      ],
      "text/plain": [
       "col_0          0       1\n",
       "Delayed                 \n",
       "0        2897097       0\n",
       "1         414617  386467"
      ]
     },
     "execution_count": 200,
     "metadata": {},
     "output_type": "execute_result"
    }
   ],
   "source": [
    "pd.crosstab(y_test, y_pred)"
   ]
  },
  {
   "cell_type": "code",
   "execution_count": 201,
   "metadata": {},
   "outputs": [
    {
     "data": {
      "text/plain": [
       "0.8878862337998059"
      ]
     },
     "execution_count": 201,
     "metadata": {},
     "output_type": "execute_result"
    }
   ],
   "source": [
    "accuracy_score(y_test, y_pred)"
   ]
  },
  {
   "cell_type": "code",
   "execution_count": 202,
   "metadata": {},
   "outputs": [],
   "source": [
    "col_list = X_train.columns\n",
    "LR_output = pd.DataFrame(LR_Model.coef_, columns=col_list)"
   ]
  },
  {
   "cell_type": "code",
   "execution_count": 203,
   "metadata": {},
   "outputs": [
    {
     "data": {
      "text/html": [
       "<div>\n",
       "<style scoped>\n",
       "    .dataframe tbody tr th:only-of-type {\n",
       "        vertical-align: middle;\n",
       "    }\n",
       "\n",
       "    .dataframe tbody tr th {\n",
       "        vertical-align: top;\n",
       "    }\n",
       "\n",
       "    .dataframe thead th {\n",
       "        text-align: right;\n",
       "    }\n",
       "</style>\n",
       "<table border=\"1\" class=\"dataframe\">\n",
       "  <thead>\n",
       "    <tr style=\"text-align: right;\">\n",
       "      <th></th>\n",
       "      <th>0</th>\n",
       "    </tr>\n",
       "  </thead>\n",
       "  <tbody>\n",
       "    <tr>\n",
       "      <th>Quarter</th>\n",
       "      <td>-1.215748e-04</td>\n",
       "    </tr>\n",
       "    <tr>\n",
       "      <th>Month</th>\n",
       "      <td>-3.557425e-04</td>\n",
       "    </tr>\n",
       "    <tr>\n",
       "      <th>DayofMonth</th>\n",
       "      <td>-4.516475e-04</td>\n",
       "    </tr>\n",
       "    <tr>\n",
       "      <th>DayOfWeek</th>\n",
       "      <td>-1.056156e-04</td>\n",
       "    </tr>\n",
       "    <tr>\n",
       "      <th>AirlineID</th>\n",
       "      <td>-1.745518e-04</td>\n",
       "    </tr>\n",
       "    <tr>\n",
       "      <th>Carrier</th>\n",
       "      <td>6.821632e-04</td>\n",
       "    </tr>\n",
       "    <tr>\n",
       "      <th>FlightNum</th>\n",
       "      <td>2.062230e-05</td>\n",
       "    </tr>\n",
       "    <tr>\n",
       "      <th>OriginAirportID</th>\n",
       "      <td>1.420530e-07</td>\n",
       "    </tr>\n",
       "    <tr>\n",
       "      <th>OriginAirportSeqID</th>\n",
       "      <td>3.828398e-07</td>\n",
       "    </tr>\n",
       "    <tr>\n",
       "      <th>OriginCityMarketID</th>\n",
       "      <td>-9.571371e-06</td>\n",
       "    </tr>\n",
       "    <tr>\n",
       "      <th>Origin</th>\n",
       "      <td>-4.624366e-04</td>\n",
       "    </tr>\n",
       "    <tr>\n",
       "      <th>OriginCityName</th>\n",
       "      <td>2.455099e-05</td>\n",
       "    </tr>\n",
       "    <tr>\n",
       "      <th>OriginState</th>\n",
       "      <td>9.617727e-07</td>\n",
       "    </tr>\n",
       "    <tr>\n",
       "      <th>OriginStateFips</th>\n",
       "      <td>-6.364046e-06</td>\n",
       "    </tr>\n",
       "    <tr>\n",
       "      <th>OriginStateName</th>\n",
       "      <td>-9.323713e-05</td>\n",
       "    </tr>\n",
       "    <tr>\n",
       "      <th>OriginWac</th>\n",
       "      <td>1.522546e-04</td>\n",
       "    </tr>\n",
       "    <tr>\n",
       "      <th>DestAirportID</th>\n",
       "      <td>2.064352e-07</td>\n",
       "    </tr>\n",
       "    <tr>\n",
       "      <th>DestAirportSeqID</th>\n",
       "      <td>5.701526e-08</td>\n",
       "    </tr>\n",
       "    <tr>\n",
       "      <th>DestCityMarketID</th>\n",
       "      <td>5.869103e-06</td>\n",
       "    </tr>\n",
       "    <tr>\n",
       "      <th>Dest</th>\n",
       "      <td>-3.488567e-04</td>\n",
       "    </tr>\n",
       "    <tr>\n",
       "      <th>DestCityName</th>\n",
       "      <td>4.717222e-04</td>\n",
       "    </tr>\n",
       "    <tr>\n",
       "      <th>DestState</th>\n",
       "      <td>-1.648113e-04</td>\n",
       "    </tr>\n",
       "    <tr>\n",
       "      <th>DestStateFips</th>\n",
       "      <td>-9.075401e-05</td>\n",
       "    </tr>\n",
       "    <tr>\n",
       "      <th>DestStateName</th>\n",
       "      <td>-2.306054e-04</td>\n",
       "    </tr>\n",
       "    <tr>\n",
       "      <th>DestWac</th>\n",
       "      <td>-1.353321e-03</td>\n",
       "    </tr>\n",
       "    <tr>\n",
       "      <th>DepartureDelayGroups</th>\n",
       "      <td>4.399752e-03</td>\n",
       "    </tr>\n",
       "    <tr>\n",
       "      <th>WheelsOff</th>\n",
       "      <td>6.530987e-04</td>\n",
       "    </tr>\n",
       "    <tr>\n",
       "      <th>WheelsOn</th>\n",
       "      <td>1.653753e-05</td>\n",
       "    </tr>\n",
       "    <tr>\n",
       "      <th>ArrDelayMinutes</th>\n",
       "      <td>5.689193e-02</td>\n",
       "    </tr>\n",
       "    <tr>\n",
       "      <th>ArrivalDelayGroups</th>\n",
       "      <td>5.001830e-03</td>\n",
       "    </tr>\n",
       "    <tr>\n",
       "      <th>Cancelled</th>\n",
       "      <td>0.000000e+00</td>\n",
       "    </tr>\n",
       "    <tr>\n",
       "      <th>AirTime</th>\n",
       "      <td>3.473310e-03</td>\n",
       "    </tr>\n",
       "    <tr>\n",
       "      <th>Flights</th>\n",
       "      <td>4.718217e-07</td>\n",
       "    </tr>\n",
       "    <tr>\n",
       "      <th>Distance</th>\n",
       "      <td>-2.430208e-04</td>\n",
       "    </tr>\n",
       "    <tr>\n",
       "      <th>DistanceGroup</th>\n",
       "      <td>2.297506e-06</td>\n",
       "    </tr>\n",
       "    <tr>\n",
       "      <th>DivAirportLandings</th>\n",
       "      <td>0.000000e+00</td>\n",
       "    </tr>\n",
       "    <tr>\n",
       "      <th>CarrierName</th>\n",
       "      <td>7.197860e-04</td>\n",
       "    </tr>\n",
       "  </tbody>\n",
       "</table>\n",
       "</div>"
      ],
      "text/plain": [
       "                                 0\n",
       "Quarter              -1.215748e-04\n",
       "Month                -3.557425e-04\n",
       "DayofMonth           -4.516475e-04\n",
       "DayOfWeek            -1.056156e-04\n",
       "AirlineID            -1.745518e-04\n",
       "Carrier               6.821632e-04\n",
       "FlightNum             2.062230e-05\n",
       "OriginAirportID       1.420530e-07\n",
       "OriginAirportSeqID    3.828398e-07\n",
       "OriginCityMarketID   -9.571371e-06\n",
       "Origin               -4.624366e-04\n",
       "OriginCityName        2.455099e-05\n",
       "OriginState           9.617727e-07\n",
       "OriginStateFips      -6.364046e-06\n",
       "OriginStateName      -9.323713e-05\n",
       "OriginWac             1.522546e-04\n",
       "DestAirportID         2.064352e-07\n",
       "DestAirportSeqID      5.701526e-08\n",
       "DestCityMarketID      5.869103e-06\n",
       "Dest                 -3.488567e-04\n",
       "DestCityName          4.717222e-04\n",
       "DestState            -1.648113e-04\n",
       "DestStateFips        -9.075401e-05\n",
       "DestStateName        -2.306054e-04\n",
       "DestWac              -1.353321e-03\n",
       "DepartureDelayGroups  4.399752e-03\n",
       "WheelsOff             6.530987e-04\n",
       "WheelsOn              1.653753e-05\n",
       "ArrDelayMinutes       5.689193e-02\n",
       "ArrivalDelayGroups    5.001830e-03\n",
       "Cancelled             0.000000e+00\n",
       "AirTime               3.473310e-03\n",
       "Flights               4.718217e-07\n",
       "Distance             -2.430208e-04\n",
       "DistanceGroup         2.297506e-06\n",
       "DivAirportLandings    0.000000e+00\n",
       "CarrierName           7.197860e-04"
      ]
     },
     "execution_count": 203,
     "metadata": {},
     "output_type": "execute_result"
    }
   ],
   "source": [
    "LR_output.T"
   ]
  },
  {
   "cell_type": "code",
   "execution_count": 204,
   "metadata": {},
   "outputs": [],
   "source": [
    "temp_DF.loc[1, 'Model']  = \"Logistic regression\"\n",
    "temp_DF.loc[1, 'Accuracy'] = accuracy_score(y_test, y_pred)\n",
    "temp_DF.loc[1, \"Precision\"] = precision_score(y_test, y_pred)\n",
    "temp_DF.loc[1, \"Recall\"] = recall_score(y_test, y_pred)\n",
    "Metrics_DF = pd.concat([Metrics_DF, temp_DF], ignore_index=True)"
   ]
  },
  {
   "cell_type": "markdown",
   "metadata": {},
   "source": [
    "#### 2. KNN "
   ]
  },
  {
   "cell_type": "code",
   "execution_count": 205,
   "metadata": {},
   "outputs": [
    {
     "data": {
      "text/plain": [
       "KNeighborsClassifier(algorithm='auto', leaf_size=30, metric='minkowski',\n",
       "           metric_params=None, n_jobs=1, n_neighbors=3, p=2,\n",
       "           weights='uniform')"
      ]
     },
     "execution_count": 205,
     "metadata": {},
     "output_type": "execute_result"
    }
   ],
   "source": [
    "from sklearn.neighbors import KNeighborsClassifier\n",
    "knn_model = KNeighborsClassifier(n_neighbors=3)\n",
    "knn_model.fit(X_train, y_train)"
   ]
  },
  {
   "cell_type": "code",
   "execution_count": 206,
   "metadata": {},
   "outputs": [
    {
     "data": {
      "text/html": [
       "<div>\n",
       "<style scoped>\n",
       "    .dataframe tbody tr th:only-of-type {\n",
       "        vertical-align: middle;\n",
       "    }\n",
       "\n",
       "    .dataframe tbody tr th {\n",
       "        vertical-align: top;\n",
       "    }\n",
       "\n",
       "    .dataframe thead th {\n",
       "        text-align: right;\n",
       "    }\n",
       "</style>\n",
       "<table border=\"1\" class=\"dataframe\">\n",
       "  <thead>\n",
       "    <tr style=\"text-align: right;\">\n",
       "      <th>col_0</th>\n",
       "      <th>0</th>\n",
       "      <th>1</th>\n",
       "    </tr>\n",
       "    <tr>\n",
       "      <th>Delayed</th>\n",
       "      <th></th>\n",
       "      <th></th>\n",
       "    </tr>\n",
       "  </thead>\n",
       "  <tbody>\n",
       "    <tr>\n",
       "      <th>0</th>\n",
       "      <td>2811567</td>\n",
       "      <td>85530</td>\n",
       "    </tr>\n",
       "    <tr>\n",
       "      <th>1</th>\n",
       "      <td>259386</td>\n",
       "      <td>541698</td>\n",
       "    </tr>\n",
       "  </tbody>\n",
       "</table>\n",
       "</div>"
      ],
      "text/plain": [
       "col_0          0       1\n",
       "Delayed                 \n",
       "0        2811567   85530\n",
       "1         259386  541698"
      ]
     },
     "execution_count": 206,
     "metadata": {},
     "output_type": "execute_result"
    }
   ],
   "source": [
    "y_pred = knn_model.predict(X_test)\n",
    "pd.crosstab(y_test, y_pred)"
   ]
  },
  {
   "cell_type": "code",
   "execution_count": 207,
   "metadata": {},
   "outputs": [
    {
     "data": {
      "text/plain": [
       "0.9067336076844265"
      ]
     },
     "execution_count": 207,
     "metadata": {},
     "output_type": "execute_result"
    }
   ],
   "source": [
    "accuracy_score(y_test, y_pred)"
   ]
  },
  {
   "cell_type": "code",
   "execution_count": 208,
   "metadata": {},
   "outputs": [],
   "source": [
    "temp_DF.loc[1, 'Model']  = \"KNN, n = 3\"\n",
    "temp_DF.loc[1, 'Accuracy'] = accuracy_score(y_test, y_pred)\n",
    "temp_DF.loc[1, \"Precision\"] = precision_score(y_test, y_pred)\n",
    "temp_DF.loc[1, \"Recall\"] = recall_score(y_test, y_pred)\n",
    "Metrics_DF = pd.concat([Metrics_DF, temp_DF], ignore_index=True)"
   ]
  },
  {
   "cell_type": "markdown",
   "metadata": {},
   "source": [
    "#### 3. NB"
   ]
  },
  {
   "cell_type": "code",
   "execution_count": 209,
   "metadata": {},
   "outputs": [
    {
     "data": {
      "text/plain": [
       "GaussianNB(priors=None)"
      ]
     },
     "execution_count": 209,
     "metadata": {},
     "output_type": "execute_result"
    }
   ],
   "source": [
    "from sklearn.naive_bayes import GaussianNB\n",
    "NB_model = GaussianNB()\n",
    "NB_model.fit(X_train, y_train)"
   ]
  },
  {
   "cell_type": "code",
   "execution_count": 210,
   "metadata": {},
   "outputs": [
    {
     "data": {
      "text/html": [
       "<div>\n",
       "<style scoped>\n",
       "    .dataframe tbody tr th:only-of-type {\n",
       "        vertical-align: middle;\n",
       "    }\n",
       "\n",
       "    .dataframe tbody tr th {\n",
       "        vertical-align: top;\n",
       "    }\n",
       "\n",
       "    .dataframe thead th {\n",
       "        text-align: right;\n",
       "    }\n",
       "</style>\n",
       "<table border=\"1\" class=\"dataframe\">\n",
       "  <thead>\n",
       "    <tr style=\"text-align: right;\">\n",
       "      <th>col_0</th>\n",
       "      <th>0</th>\n",
       "      <th>1</th>\n",
       "    </tr>\n",
       "    <tr>\n",
       "      <th>Delayed</th>\n",
       "      <th></th>\n",
       "      <th></th>\n",
       "    </tr>\n",
       "  </thead>\n",
       "  <tbody>\n",
       "    <tr>\n",
       "      <th>0</th>\n",
       "      <td>2896814</td>\n",
       "      <td>283</td>\n",
       "    </tr>\n",
       "    <tr>\n",
       "      <th>1</th>\n",
       "      <td>196342</td>\n",
       "      <td>604742</td>\n",
       "    </tr>\n",
       "  </tbody>\n",
       "</table>\n",
       "</div>"
      ],
      "text/plain": [
       "col_0          0       1\n",
       "Delayed                 \n",
       "0        2896814     283\n",
       "1         196342  604742"
      ]
     },
     "execution_count": 210,
     "metadata": {},
     "output_type": "execute_result"
    }
   ],
   "source": [
    "y_pred = NB_model.predict(X_test)\n",
    "pd.crosstab(y_test, y_pred)"
   ]
  },
  {
   "cell_type": "code",
   "execution_count": 211,
   "metadata": {},
   "outputs": [
    {
     "data": {
      "text/plain": [
       "0.9468319695547622"
      ]
     },
     "execution_count": 211,
     "metadata": {},
     "output_type": "execute_result"
    }
   ],
   "source": [
    "accuracy_score(y_test, y_pred)"
   ]
  },
  {
   "cell_type": "code",
   "execution_count": 212,
   "metadata": {},
   "outputs": [],
   "source": [
    "temp_DF.loc[1, 'Model']  = \"NB\"\n",
    "temp_DF.loc[1, 'Accuracy'] = accuracy_score(y_test, y_pred)\n",
    "temp_DF.loc[1, \"Precision\"] = precision_score(y_test, y_pred)\n",
    "temp_DF.loc[1, \"Recall\"] = recall_score(y_test, y_pred)\n",
    "Metrics_DF = pd.concat([Metrics_DF, temp_DF], ignore_index=True)"
   ]
  },
  {
   "cell_type": "code",
   "execution_count": 213,
   "metadata": {},
   "outputs": [
    {
     "name": "stdout",
     "output_type": "stream",
     "text": [
      "Area under the ROC curve: 0.12259653986535742\n"
     ]
    },
    {
     "data": {
      "text/plain": [
       "Text(0.5,1,'Receiver operating characteristic (ROC)')"
      ]
     },
     "execution_count": 213,
     "metadata": {},
     "output_type": "execute_result"
    },
    {
     "data": {
      "image/png": "[encoded data removed]",
      "text/plain": [
       "<Figure size 432x288 with 1 Axes>"
      ]
     },
     "metadata": {},
     "output_type": "display_data"
    }
   ],
   "source": [
    "from sklearn.metrics import roc_curve\n",
    "import matplotlib\n",
    "from matplotlib import pyplot as plt\n",
    "\n",
    "fpr, tpr, _ = roc_curve(y_test, y_pred)\n",
    "auc = np.trapz(fpr,tpr)\n",
    "print('Area under the ROC curve: ' + str(auc))\n",
    " \n",
    "fig = plt.figure(1)\n",
    "plt.plot(fpr,tpr,color='green')\n",
    "plt.xlabel('False positive rate (FPR)')\n",
    "plt.ylabel('True positive rate (TPR)')\n",
    "plt.title('Receiver operating characteristic (ROC)')"
   ]
  },
  {
   "cell_type": "markdown",
   "metadata": {},
   "source": [
    "#### 4. Decision tree"
   ]
  },
  {
   "cell_type": "code",
   "execution_count": 214,
   "metadata": {},
   "outputs": [
    {
     "data": {
      "text/plain": [
       "DecisionTreeClassifier(class_weight=None, criterion='gini', max_depth=None,\n",
       "            max_features=None, max_leaf_nodes=None,\n",
       "            min_impurity_decrease=0.0, min_impurity_split=None,\n",
       "            min_samples_leaf=1, min_samples_split=2,\n",
       "            min_weight_fraction_leaf=0.0, presort=False, random_state=None,\n",
       "            splitter='best')"
      ]
     },
     "execution_count": 214,
     "metadata": {},
     "output_type": "execute_result"
    }
   ],
   "source": [
    "from sklearn.tree import DecisionTreeClassifier\n",
    "DT_model = DecisionTreeClassifier()\n",
    "\n",
    "DT_model.fit(X_train, y_train)"
   ]
  },
  {
   "cell_type": "code",
   "execution_count": 215,
   "metadata": {},
   "outputs": [
    {
     "data": {
      "text/html": [
       "<div>\n",
       "<style scoped>\n",
       "    .dataframe tbody tr th:only-of-type {\n",
       "        vertical-align: middle;\n",
       "    }\n",
       "\n",
       "    .dataframe tbody tr th {\n",
       "        vertical-align: top;\n",
       "    }\n",
       "\n",
       "    .dataframe thead th {\n",
       "        text-align: right;\n",
       "    }\n",
       "</style>\n",
       "<table border=\"1\" class=\"dataframe\">\n",
       "  <thead>\n",
       "    <tr style=\"text-align: right;\">\n",
       "      <th>col_0</th>\n",
       "      <th>0</th>\n",
       "      <th>1</th>\n",
       "    </tr>\n",
       "    <tr>\n",
       "      <th>Delayed</th>\n",
       "      <th></th>\n",
       "      <th></th>\n",
       "    </tr>\n",
       "  </thead>\n",
       "  <tbody>\n",
       "    <tr>\n",
       "      <th>0</th>\n",
       "      <td>2897097</td>\n",
       "      <td>0</td>\n",
       "    </tr>\n",
       "    <tr>\n",
       "      <th>1</th>\n",
       "      <td>0</td>\n",
       "      <td>801084</td>\n",
       "    </tr>\n",
       "  </tbody>\n",
       "</table>\n",
       "</div>"
      ],
      "text/plain": [
       "col_0          0       1\n",
       "Delayed                 \n",
       "0        2897097       0\n",
       "1              0  801084"
      ]
     },
     "execution_count": 215,
     "metadata": {},
     "output_type": "execute_result"
    }
   ],
   "source": [
    "y_pred = DT_model.predict(X_test)\n",
    "pd.crosstab(y_test, y_pred)"
   ]
  },
  {
   "cell_type": "code",
   "execution_count": 216,
   "metadata": {},
   "outputs": [
    {
     "data": {
      "text/html": [
       "<div>\n",
       "<style scoped>\n",
       "    .dataframe tbody tr th:only-of-type {\n",
       "        vertical-align: middle;\n",
       "    }\n",
       "\n",
       "    .dataframe tbody tr th {\n",
       "        vertical-align: top;\n",
       "    }\n",
       "\n",
       "    .dataframe thead th {\n",
       "        text-align: right;\n",
       "    }\n",
       "</style>\n",
       "<table border=\"1\" class=\"dataframe\">\n",
       "  <thead>\n",
       "    <tr style=\"text-align: right;\">\n",
       "      <th></th>\n",
       "      <th>0</th>\n",
       "      <th>1</th>\n",
       "    </tr>\n",
       "  </thead>\n",
       "  <tbody>\n",
       "    <tr>\n",
       "      <th>0</th>\n",
       "      <td>Quarter</td>\n",
       "      <td>0</td>\n",
       "    </tr>\n",
       "    <tr>\n",
       "      <th>1</th>\n",
       "      <td>Month</td>\n",
       "      <td>0</td>\n",
       "    </tr>\n",
       "    <tr>\n",
       "      <th>2</th>\n",
       "      <td>DayofMonth</td>\n",
       "      <td>0</td>\n",
       "    </tr>\n",
       "    <tr>\n",
       "      <th>3</th>\n",
       "      <td>DayOfWeek</td>\n",
       "      <td>0</td>\n",
       "    </tr>\n",
       "    <tr>\n",
       "      <th>4</th>\n",
       "      <td>AirlineID</td>\n",
       "      <td>0</td>\n",
       "    </tr>\n",
       "    <tr>\n",
       "      <th>5</th>\n",
       "      <td>Carrier</td>\n",
       "      <td>0</td>\n",
       "    </tr>\n",
       "    <tr>\n",
       "      <th>6</th>\n",
       "      <td>FlightNum</td>\n",
       "      <td>0</td>\n",
       "    </tr>\n",
       "    <tr>\n",
       "      <th>7</th>\n",
       "      <td>OriginAirportID</td>\n",
       "      <td>0</td>\n",
       "    </tr>\n",
       "    <tr>\n",
       "      <th>8</th>\n",
       "      <td>OriginAirportSeqID</td>\n",
       "      <td>0</td>\n",
       "    </tr>\n",
       "    <tr>\n",
       "      <th>9</th>\n",
       "      <td>OriginCityMarketID</td>\n",
       "      <td>0</td>\n",
       "    </tr>\n",
       "    <tr>\n",
       "      <th>10</th>\n",
       "      <td>Origin</td>\n",
       "      <td>0</td>\n",
       "    </tr>\n",
       "    <tr>\n",
       "      <th>11</th>\n",
       "      <td>OriginCityName</td>\n",
       "      <td>0</td>\n",
       "    </tr>\n",
       "    <tr>\n",
       "      <th>12</th>\n",
       "      <td>OriginState</td>\n",
       "      <td>0</td>\n",
       "    </tr>\n",
       "    <tr>\n",
       "      <th>13</th>\n",
       "      <td>OriginStateFips</td>\n",
       "      <td>0</td>\n",
       "    </tr>\n",
       "    <tr>\n",
       "      <th>14</th>\n",
       "      <td>OriginStateName</td>\n",
       "      <td>0</td>\n",
       "    </tr>\n",
       "    <tr>\n",
       "      <th>15</th>\n",
       "      <td>OriginWac</td>\n",
       "      <td>0</td>\n",
       "    </tr>\n",
       "    <tr>\n",
       "      <th>16</th>\n",
       "      <td>DestAirportID</td>\n",
       "      <td>0</td>\n",
       "    </tr>\n",
       "    <tr>\n",
       "      <th>17</th>\n",
       "      <td>DestAirportSeqID</td>\n",
       "      <td>0</td>\n",
       "    </tr>\n",
       "    <tr>\n",
       "      <th>18</th>\n",
       "      <td>DestCityMarketID</td>\n",
       "      <td>0</td>\n",
       "    </tr>\n",
       "    <tr>\n",
       "      <th>19</th>\n",
       "      <td>Dest</td>\n",
       "      <td>0</td>\n",
       "    </tr>\n",
       "    <tr>\n",
       "      <th>20</th>\n",
       "      <td>DestCityName</td>\n",
       "      <td>0</td>\n",
       "    </tr>\n",
       "    <tr>\n",
       "      <th>21</th>\n",
       "      <td>DestState</td>\n",
       "      <td>0</td>\n",
       "    </tr>\n",
       "    <tr>\n",
       "      <th>22</th>\n",
       "      <td>DestStateFips</td>\n",
       "      <td>0</td>\n",
       "    </tr>\n",
       "    <tr>\n",
       "      <th>23</th>\n",
       "      <td>DestStateName</td>\n",
       "      <td>0</td>\n",
       "    </tr>\n",
       "    <tr>\n",
       "      <th>24</th>\n",
       "      <td>DestWac</td>\n",
       "      <td>0</td>\n",
       "    </tr>\n",
       "    <tr>\n",
       "      <th>25</th>\n",
       "      <td>DepartureDelayGroups</td>\n",
       "      <td>0</td>\n",
       "    </tr>\n",
       "    <tr>\n",
       "      <th>26</th>\n",
       "      <td>WheelsOff</td>\n",
       "      <td>0.20928</td>\n",
       "    </tr>\n",
       "    <tr>\n",
       "      <th>27</th>\n",
       "      <td>WheelsOn</td>\n",
       "      <td>0</td>\n",
       "    </tr>\n",
       "    <tr>\n",
       "      <th>28</th>\n",
       "      <td>ArrDelayMinutes</td>\n",
       "      <td>0</td>\n",
       "    </tr>\n",
       "    <tr>\n",
       "      <th>29</th>\n",
       "      <td>ArrivalDelayGroups</td>\n",
       "      <td>0</td>\n",
       "    </tr>\n",
       "    <tr>\n",
       "      <th>30</th>\n",
       "      <td>Cancelled</td>\n",
       "      <td>0</td>\n",
       "    </tr>\n",
       "    <tr>\n",
       "      <th>31</th>\n",
       "      <td>AirTime</td>\n",
       "      <td>0</td>\n",
       "    </tr>\n",
       "    <tr>\n",
       "      <th>32</th>\n",
       "      <td>Flights</td>\n",
       "      <td>0</td>\n",
       "    </tr>\n",
       "    <tr>\n",
       "      <th>33</th>\n",
       "      <td>Distance</td>\n",
       "      <td>0.79072</td>\n",
       "    </tr>\n",
       "    <tr>\n",
       "      <th>34</th>\n",
       "      <td>DistanceGroup</td>\n",
       "      <td>0</td>\n",
       "    </tr>\n",
       "    <tr>\n",
       "      <th>35</th>\n",
       "      <td>DivAirportLandings</td>\n",
       "      <td>0</td>\n",
       "    </tr>\n",
       "    <tr>\n",
       "      <th>36</th>\n",
       "      <td>CarrierName</td>\n",
       "      <td>0</td>\n",
       "    </tr>\n",
       "    <tr>\n",
       "      <th>37</th>\n",
       "      <td>NaN</td>\n",
       "      <td>0</td>\n",
       "    </tr>\n",
       "    <tr>\n",
       "      <th>38</th>\n",
       "      <td>NaN</td>\n",
       "      <td>0</td>\n",
       "    </tr>\n",
       "    <tr>\n",
       "      <th>39</th>\n",
       "      <td>NaN</td>\n",
       "      <td>0</td>\n",
       "    </tr>\n",
       "    <tr>\n",
       "      <th>40</th>\n",
       "      <td>NaN</td>\n",
       "      <td>0</td>\n",
       "    </tr>\n",
       "    <tr>\n",
       "      <th>41</th>\n",
       "      <td>NaN</td>\n",
       "      <td>0</td>\n",
       "    </tr>\n",
       "    <tr>\n",
       "      <th>42</th>\n",
       "      <td>NaN</td>\n",
       "      <td>0</td>\n",
       "    </tr>\n",
       "    <tr>\n",
       "      <th>43</th>\n",
       "      <td>NaN</td>\n",
       "      <td>0</td>\n",
       "    </tr>\n",
       "    <tr>\n",
       "      <th>44</th>\n",
       "      <td>NaN</td>\n",
       "      <td>0</td>\n",
       "    </tr>\n",
       "    <tr>\n",
       "      <th>45</th>\n",
       "      <td>NaN</td>\n",
       "      <td>0</td>\n",
       "    </tr>\n",
       "    <tr>\n",
       "      <th>46</th>\n",
       "      <td>NaN</td>\n",
       "      <td>0</td>\n",
       "    </tr>\n",
       "  </tbody>\n",
       "</table>\n",
       "</div>"
      ],
      "text/plain": [
       "                       0        1\n",
       "0                Quarter        0\n",
       "1                  Month        0\n",
       "2             DayofMonth        0\n",
       "3              DayOfWeek        0\n",
       "4              AirlineID        0\n",
       "5                Carrier        0\n",
       "6              FlightNum        0\n",
       "7        OriginAirportID        0\n",
       "8     OriginAirportSeqID        0\n",
       "9     OriginCityMarketID        0\n",
       "10                Origin        0\n",
       "11        OriginCityName        0\n",
       "12           OriginState        0\n",
       "13       OriginStateFips        0\n",
       "14       OriginStateName        0\n",
       "15             OriginWac        0\n",
       "16         DestAirportID        0\n",
       "17      DestAirportSeqID        0\n",
       "18      DestCityMarketID        0\n",
       "19                  Dest        0\n",
       "20          DestCityName        0\n",
       "21             DestState        0\n",
       "22         DestStateFips        0\n",
       "23         DestStateName        0\n",
       "24               DestWac        0\n",
       "25  DepartureDelayGroups        0\n",
       "26             WheelsOff  0.20928\n",
       "27              WheelsOn        0\n",
       "28       ArrDelayMinutes        0\n",
       "29    ArrivalDelayGroups        0\n",
       "30             Cancelled        0\n",
       "31               AirTime        0\n",
       "32               Flights        0\n",
       "33              Distance  0.79072\n",
       "34         DistanceGroup        0\n",
       "35    DivAirportLandings        0\n",
       "36           CarrierName        0\n",
       "37                   NaN        0\n",
       "38                   NaN        0\n",
       "39                   NaN        0\n",
       "40                   NaN        0\n",
       "41                   NaN        0\n",
       "42                   NaN        0\n",
       "43                   NaN        0\n",
       "44                   NaN        0\n",
       "45                   NaN        0\n",
       "46                   NaN        0"
      ]
     },
     "execution_count": 216,
     "metadata": {},
     "output_type": "execute_result"
    }
   ],
   "source": [
    "Nodes = pd.DataFrame(DT_model.tree_.__getstate__()[\"nodes\"])\n",
    "Nodes\n",
    "\n",
    "feature_importance = pd.DataFrame([X_train.columns,\n",
    "                               clf.tree_.compute_feature_importances()])\n",
    "feature_importance.T "
   ]
  },
  {
   "cell_type": "code",
   "execution_count": 217,
   "metadata": {},
   "outputs": [
    {
     "data": {
      "text/plain": [
       "1.0"
      ]
     },
     "execution_count": 217,
     "metadata": {},
     "output_type": "execute_result"
    }
   ],
   "source": [
    "accuracy_score(y_test, y_pred)"
   ]
  },
  {
   "cell_type": "code",
   "execution_count": 220,
   "metadata": {},
   "outputs": [],
   "source": [
    "temp_DF.loc[1, 'Model']  = \"Decision tree\"\n",
    "temp_DF.loc[1, 'Accuracy'] = accuracy_score(y_test, y_pred)\n",
    "temp_DF.loc[1, \"Precision\"] = precision_score(y_test, y_pred)\n",
    "temp_DF.loc[1, \"Recall\"] = recall_score(y_test, y_pred)\n",
    "Metrics_DF = pd.concat([Metrics_DF, temp_DF], ignore_index=True)"
   ]
  },
  {
   "cell_type": "code",
   "execution_count": 221,
   "metadata": {},
   "outputs": [
    {
     "data": {
      "text/html": [
       "<div>\n",
       "<style scoped>\n",
       "    .dataframe tbody tr th:only-of-type {\n",
       "        vertical-align: middle;\n",
       "    }\n",
       "\n",
       "    .dataframe tbody tr th {\n",
       "        vertical-align: top;\n",
       "    }\n",
       "\n",
       "    .dataframe thead th {\n",
       "        text-align: right;\n",
       "    }\n",
       "</style>\n",
       "<table border=\"1\" class=\"dataframe\">\n",
       "  <thead>\n",
       "    <tr style=\"text-align: right;\">\n",
       "      <th></th>\n",
       "      <th>Model</th>\n",
       "      <th>Accuracy</th>\n",
       "      <th>Precision</th>\n",
       "      <th>Recall</th>\n",
       "    </tr>\n",
       "  </thead>\n",
       "  <tbody>\n",
       "    <tr>\n",
       "      <th>0</th>\n",
       "      <td>Logistic regression</td>\n",
       "      <td>0.887886</td>\n",
       "      <td>1</td>\n",
       "      <td>0.48243</td>\n",
       "    </tr>\n",
       "    <tr>\n",
       "      <th>1</th>\n",
       "      <td>KNN, n = 3</td>\n",
       "      <td>0.906734</td>\n",
       "      <td>0.863638</td>\n",
       "      <td>0.676206</td>\n",
       "    </tr>\n",
       "    <tr>\n",
       "      <th>2</th>\n",
       "      <td>NB</td>\n",
       "      <td>0.946832</td>\n",
       "      <td>0.999532</td>\n",
       "      <td>0.754905</td>\n",
       "    </tr>\n",
       "    <tr>\n",
       "      <th>3</th>\n",
       "      <td>Decision tree</td>\n",
       "      <td>1</td>\n",
       "      <td>1</td>\n",
       "      <td>1</td>\n",
       "    </tr>\n",
       "  </tbody>\n",
       "</table>\n",
       "</div>"
      ],
      "text/plain": [
       "                 Model  Accuracy Precision    Recall\n",
       "0  Logistic regression  0.887886         1   0.48243\n",
       "1           KNN, n = 3  0.906734  0.863638  0.676206\n",
       "2                   NB  0.946832  0.999532  0.754905\n",
       "3        Decision tree         1         1         1"
      ]
     },
     "execution_count": 221,
     "metadata": {},
     "output_type": "execute_result"
    }
   ],
   "source": [
    "Metrics_DF"
   ]
  },
  {
   "cell_type": "markdown",
   "metadata": {},
   "source": [
    "# Thank you"
   ]
  }
 ],
 "metadata": {
  "kernelspec": {
   "display_name": "Python 3",
   "language": "python",
   "name": "python3"
  },
  "language_info": {
   "codemirror_mode": {
    "name": "ipython",
    "version": 3
   },
   "file_extension": ".py",
   "mimetype": "text/x-python",
   "name": "python",
   "nbconvert_exporter": "python",
   "pygments_lexer": "ipython3",
   "version": "3.6.5"
  }
 },
 "nbformat": 4,
 "nbformat_minor": 2
}
